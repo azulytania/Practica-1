{
 "cells": [
  {
   "cell_type": "code",
   "execution_count": 2,
   "metadata": {},
   "outputs": [
    {
     "name": "stdout",
     "output_type": "stream",
     "text": [
      "No se puede aplicar descuento\n"
     ]
    }
   ],
   "source": [
    "#  Escribir un programa que me permita aplicar \n",
    "# el 10% de descuento si la compra total es mayor a $100.\n",
    "compra = 95\n",
    "if compra > 100:\n",
    "    print (compra * .90)\n",
    "else:\n",
    "    print (\"No se puede aplicar descuento\")"
   ]
  },
  {
   "cell_type": "code",
   "execution_count": 3,
   "metadata": {},
   "outputs": [
    {
     "name": "stdout",
     "output_type": "stream",
     "text": [
      "101.25\n"
     ]
    }
   ],
   "source": [
    "# calcular el area de un triangulo \n",
    "b = 15\n",
    "h = 13.5\n",
    "a = (b * h)/2\n",
    "print (a)"
   ]
  },
  {
   "cell_type": "code",
   "execution_count": 5,
   "metadata": {},
   "outputs": [
    {
     "name": "stdout",
     "output_type": "stream",
     "text": [
      "20.195092211553114\n"
     ]
    }
   ],
   "source": [
    "# calcula el IMC\n",
    "kg = 53\n",
    "h = 1.62 ** 2\n",
    "IMC = kg / h\n",
    "print (IMC)"
   ]
  }
 ],
 "metadata": {
  "kernelspec": {
   "display_name": "Python 3",
   "language": "python",
   "name": "python3"
  },
  "language_info": {
   "codemirror_mode": {
    "name": "ipython",
    "version": 3
   },
   "file_extension": ".py",
   "mimetype": "text/x-python",
   "name": "python",
   "nbconvert_exporter": "python",
   "pygments_lexer": "ipython3",
   "version": "3.8.3"
  }
 },
 "nbformat": 4,
 "nbformat_minor": 4
}
